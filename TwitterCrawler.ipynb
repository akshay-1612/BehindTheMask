{
 "cells": [
  {
   "cell_type": "markdown",
   "metadata": {},
   "source": [
    "# Twitter crawler\n",
    "\n",
    "Adapted from: [vickyqian/twitter crawler.txt](https://gist.github.com/vickyqian/f70e9ab3910c7c290d9d715491cde44c)\n",
    "And help from: [30 Days of Python](https://www.youtube.com/watch?v=dvAurfBB6Jk)"
   ]
  },
  {
   "cell_type": "code",
   "execution_count": 1,
   "metadata": {
    "execution": {
     "iopub.execute_input": "2020-08-06T01:46:51.219684Z",
     "iopub.status.busy": "2020-08-06T01:46:51.219172Z",
     "iopub.status.idle": "2020-08-06T01:46:52.373742Z",
     "shell.execute_reply": "2020-08-06T01:46:52.372780Z",
     "shell.execute_reply.started": "2020-08-06T01:46:51.219634Z"
    }
   },
   "outputs": [],
   "source": [
    "import tweepy\n",
    "import webbrowser\n",
    "import wget\n",
    "import ast\n",
    "import csv\n",
    "import pandas as pd\n",
    "####input your credentials here\n",
    "consumer_key = '9qaIUNkefTsh7aakUtDGEYcgf'\n",
    "consumer_secret = 'kXyhIyrZpAMQrZ5z9ZS8zhxdSrIkcVuWZBgvASYamHWhyn7Ymn'\n",
    "callback_url = 'oob'"
   ]
  },
  {
   "cell_type": "code",
   "execution_count": 2,
   "metadata": {
    "execution": {
     "iopub.execute_input": "2020-08-06T01:46:52.376006Z",
     "iopub.status.busy": "2020-08-06T01:46:52.375343Z",
     "iopub.status.idle": "2020-08-06T01:47:03.200879Z",
     "shell.execute_reply": "2020-08-06T01:47:03.199575Z",
     "shell.execute_reply.started": "2020-08-06T01:46:52.375956Z"
    }
   },
   "outputs": [
    {
     "name": "stdin",
     "output_type": "stream",
     "text": [
      "What's the pin value? 4576656\n"
     ]
    }
   ],
   "source": [
    "#authorization\n",
    "auth = tweepy.OAuthHandler(consumer_key, consumer_secret,callback_url)\n",
    "redirect_url = auth.get_authorization_url()\n",
    "api = tweepy.API(auth,wait_on_rate_limit=True)\n",
    "webbrowser.open(redirect_url)\n",
    "user_pin_input= input(\"What's the pin value?\")\n",
    "auth.get_access_token(user_pin_input)\n",
    "api = tweepy.API(auth)"
   ]
  },
  {
   "cell_type": "code",
   "execution_count": 17,
   "metadata": {
    "execution": {
     "iopub.execute_input": "2020-08-06T02:31:12.770144Z",
     "iopub.status.busy": "2020-08-06T02:31:12.769630Z",
     "iopub.status.idle": "2020-08-06T02:31:15.282030Z",
     "shell.execute_reply": "2020-08-06T02:31:15.280360Z",
     "shell.execute_reply.started": "2020-08-06T02:31:12.770096Z"
    }
   },
   "outputs": [],
   "source": [
    "#####Selfies\n",
    "# Open/Create a file to append data\n",
    "csvFile = open('nomask_tweets.csv', 'a')\n",
    "#Use csv Writer\n",
    "csvWriter = csv.writer(csvFile)\n",
    "\n",
    "for tweet in tweepy.Cursor(api.search,q=\"#nomaskselfie\" + \"-filter:retweets\",count=100,\n",
    "                           lang=\"en\", include_entities = True).items():\n",
    "    csvWriter.writerow([tweet.created_at, tweet.text.encode('utf-8'),tweet.entities,tweet.geo])"
   ]
  },
  {
   "cell_type": "markdown",
   "metadata": {},
   "source": [
    "# Dataframe"
   ]
  },
  {
   "cell_type": "code",
   "execution_count": 18,
   "metadata": {
    "execution": {
     "iopub.execute_input": "2020-08-06T02:31:38.106945Z",
     "iopub.status.busy": "2020-08-06T02:31:38.105842Z",
     "iopub.status.idle": "2020-08-06T02:31:38.137308Z",
     "shell.execute_reply": "2020-08-06T02:31:38.134546Z",
     "shell.execute_reply.started": "2020-08-06T02:31:38.106873Z"
    }
   },
   "outputs": [],
   "source": [
    "df = pd.read_csv('nomask_tweets.csv')\n",
    "                 \n",
    "df.columns = ['created','text','entities','geo']"
   ]
  },
  {
   "cell_type": "code",
   "execution_count": 19,
   "metadata": {
    "execution": {
     "iopub.execute_input": "2020-08-06T02:31:40.863726Z",
     "iopub.status.busy": "2020-08-06T02:31:40.862894Z",
     "iopub.status.idle": "2020-08-06T02:31:40.896924Z",
     "shell.execute_reply": "2020-08-06T02:31:40.894810Z",
     "shell.execute_reply.started": "2020-08-06T02:31:40.863585Z"
    }
   },
   "outputs": [
    {
     "data": {
      "text/html": [
       "<div>\n",
       "<style scoped>\n",
       "    .dataframe tbody tr th:only-of-type {\n",
       "        vertical-align: middle;\n",
       "    }\n",
       "\n",
       "    .dataframe tbody tr th {\n",
       "        vertical-align: top;\n",
       "    }\n",
       "\n",
       "    .dataframe thead th {\n",
       "        text-align: right;\n",
       "    }\n",
       "</style>\n",
       "<table border=\"1\" class=\"dataframe\">\n",
       "  <thead>\n",
       "    <tr style=\"text-align: right;\">\n",
       "      <th></th>\n",
       "      <th>created</th>\n",
       "      <th>text</th>\n",
       "      <th>entities</th>\n",
       "      <th>geo</th>\n",
       "    </tr>\n",
       "  </thead>\n",
       "  <tbody>\n",
       "    <tr>\n",
       "      <th>0</th>\n",
       "      <td>2020-08-05 19:33:53</td>\n",
       "      <td>b'@MayorofLondon Everything going on in the wo...</td>\n",
       "      <td>{'hashtags': [{'text': 'NoNewNornal', 'indices...</td>\n",
       "      <td>NaN</td>\n",
       "    </tr>\n",
       "    <tr>\n",
       "      <th>1</th>\n",
       "      <td>2020-08-05 18:49:18</td>\n",
       "      <td>b'Speak the word.\\xf0\\x9f\\x91\\x86\\xf0\\x9f\\x91\\...</td>\n",
       "      <td>{'hashtags': [{'text': 'HowToKnowIfYouAreGoodI...</td>\n",
       "      <td>NaN</td>\n",
       "    </tr>\n",
       "    <tr>\n",
       "      <th>2</th>\n",
       "      <td>2020-08-05 18:07:29</td>\n",
       "      <td>b\"I think Aldi are taking the piss with traffi...</td>\n",
       "      <td>{'hashtags': [{'text': 'KBF', 'indices': [94, ...</td>\n",
       "      <td>NaN</td>\n",
       "    </tr>\n",
       "    <tr>\n",
       "      <th>3</th>\n",
       "      <td>2020-08-05 17:51:04</td>\n",
       "      <td>b'This is about your leader, Simon Dolan, the ...</td>\n",
       "      <td>{'hashtags': [], 'symbols': [], 'user_mentions...</td>\n",
       "      <td>NaN</td>\n",
       "    </tr>\n",
       "    <tr>\n",
       "      <th>4</th>\n",
       "      <td>2020-08-05 15:26:24</td>\n",
       "      <td>b\"Forgot the milk yesterday so back to the con...</td>\n",
       "      <td>{'hashtags': [], 'symbols': [], 'user_mentions...</td>\n",
       "      <td>NaN</td>\n",
       "    </tr>\n",
       "    <tr>\n",
       "      <th>...</th>\n",
       "      <td>...</td>\n",
       "      <td>...</td>\n",
       "      <td>...</td>\n",
       "      <td>...</td>\n",
       "    </tr>\n",
       "    <tr>\n",
       "      <th>271</th>\n",
       "      <td>2020-07-28 05:44:48</td>\n",
       "      <td>b'@BreesAnna This is it! If the blind won\\xe2\\...</td>\n",
       "      <td>{'hashtags': [{'text': 'masks', 'indices': [83...</td>\n",
       "      <td>NaN</td>\n",
       "    </tr>\n",
       "    <tr>\n",
       "      <th>272</th>\n",
       "      <td>2020-07-28 03:28:33</td>\n",
       "      <td>b'@maxH6294 Why does almost everyone taking a ...</td>\n",
       "      <td>{'hashtags': [{'text': 'NoMaskSelfie', 'indice...</td>\n",
       "      <td>NaN</td>\n",
       "    </tr>\n",
       "    <tr>\n",
       "      <th>273</th>\n",
       "      <td>2020-07-28 03:23:15</td>\n",
       "      <td>b'Why does almost everyone taking a #NoMaskSel...</td>\n",
       "      <td>{'hashtags': [{'text': 'NoMaskSelfie', 'indice...</td>\n",
       "      <td>NaN</td>\n",
       "    </tr>\n",
       "    <tr>\n",
       "      <th>274</th>\n",
       "      <td>2020-07-28 00:29:14</td>\n",
       "      <td>b'This #NoMaskSelfie is a load of bollocks. Th...</td>\n",
       "      <td>{'hashtags': [{'text': 'NoMaskSelfie', 'indice...</td>\n",
       "      <td>NaN</td>\n",
       "    </tr>\n",
       "    <tr>\n",
       "      <th>275</th>\n",
       "      <td>2020-07-27 23:48:51</td>\n",
       "      <td>b'@d_mos77 @chazndave1978 Ignorance and self-r...</td>\n",
       "      <td>{'hashtags': [{'text': 'MaskUp', 'indices': [8...</td>\n",
       "      <td>NaN</td>\n",
       "    </tr>\n",
       "  </tbody>\n",
       "</table>\n",
       "<p>276 rows × 4 columns</p>\n",
       "</div>"
      ],
      "text/plain": [
       "                 created                                               text  \\\n",
       "0    2020-08-05 19:33:53  b'@MayorofLondon Everything going on in the wo...   \n",
       "1    2020-08-05 18:49:18  b'Speak the word.\\xf0\\x9f\\x91\\x86\\xf0\\x9f\\x91\\...   \n",
       "2    2020-08-05 18:07:29  b\"I think Aldi are taking the piss with traffi...   \n",
       "3    2020-08-05 17:51:04  b'This is about your leader, Simon Dolan, the ...   \n",
       "4    2020-08-05 15:26:24  b\"Forgot the milk yesterday so back to the con...   \n",
       "..                   ...                                                ...   \n",
       "271  2020-07-28 05:44:48  b'@BreesAnna This is it! If the blind won\\xe2\\...   \n",
       "272  2020-07-28 03:28:33  b'@maxH6294 Why does almost everyone taking a ...   \n",
       "273  2020-07-28 03:23:15  b'Why does almost everyone taking a #NoMaskSel...   \n",
       "274  2020-07-28 00:29:14  b'This #NoMaskSelfie is a load of bollocks. Th...   \n",
       "275  2020-07-27 23:48:51  b'@d_mos77 @chazndave1978 Ignorance and self-r...   \n",
       "\n",
       "                                              entities  geo  \n",
       "0    {'hashtags': [{'text': 'NoNewNornal', 'indices...  NaN  \n",
       "1    {'hashtags': [{'text': 'HowToKnowIfYouAreGoodI...  NaN  \n",
       "2    {'hashtags': [{'text': 'KBF', 'indices': [94, ...  NaN  \n",
       "3    {'hashtags': [], 'symbols': [], 'user_mentions...  NaN  \n",
       "4    {'hashtags': [], 'symbols': [], 'user_mentions...  NaN  \n",
       "..                                                 ...  ...  \n",
       "271  {'hashtags': [{'text': 'masks', 'indices': [83...  NaN  \n",
       "272  {'hashtags': [{'text': 'NoMaskSelfie', 'indice...  NaN  \n",
       "273  {'hashtags': [{'text': 'NoMaskSelfie', 'indice...  NaN  \n",
       "274  {'hashtags': [{'text': 'NoMaskSelfie', 'indice...  NaN  \n",
       "275  {'hashtags': [{'text': 'MaskUp', 'indices': [8...  NaN  \n",
       "\n",
       "[276 rows x 4 columns]"
      ]
     },
     "execution_count": 19,
     "metadata": {},
     "output_type": "execute_result"
    }
   ],
   "source": [
    "df"
   ]
  },
  {
   "cell_type": "code",
   "execution_count": 20,
   "metadata": {
    "execution": {
     "iopub.execute_input": "2020-08-06T02:31:44.663878Z",
     "iopub.status.busy": "2020-08-06T02:31:44.663551Z",
     "iopub.status.idle": "2020-08-06T02:31:44.670300Z",
     "shell.execute_reply": "2020-08-06T02:31:44.669346Z",
     "shell.execute_reply.started": "2020-08-06T02:31:44.663850Z"
    }
   },
   "outputs": [
    {
     "data": {
      "text/plain": [
       "\"{'hashtags': [{'text': 'kbf', 'indices': [100, 104]}, {'text': 'nomask', 'indices': [105, 112]}, {'text': 'nomaskselfie', 'indices': [113, 126]}, {'text': 'nomaskonme', 'indices': [128, 139]}], 'symbols': [], 'user_mentions': [], 'urls': [{'url': 'https://t.co/hHdLtnTCET', 'expanded_url': 'https://www.bbc.co.uk/news/uk-wales-53653235', 'display_url': 'bbc.co.uk/news/uk-wales-…', 'indices': [75, 98]}]}\""
      ]
     },
     "execution_count": 20,
     "metadata": {},
     "output_type": "execute_result"
    }
   ],
   "source": [
    "df['entities'][10]"
   ]
  },
  {
   "cell_type": "markdown",
   "metadata": {},
   "source": [
    "# Get media"
   ]
  },
  {
   "cell_type": "code",
   "execution_count": 21,
   "metadata": {
    "execution": {
     "iopub.execute_input": "2020-08-06T02:31:47.590523Z",
     "iopub.status.busy": "2020-08-06T02:31:47.590193Z",
     "iopub.status.idle": "2020-08-06T02:31:47.710692Z",
     "shell.execute_reply": "2020-08-06T02:31:47.698800Z",
     "shell.execute_reply.started": "2020-08-06T02:31:47.590495Z"
    }
   },
   "outputs": [
    {
     "data": {
      "text/plain": [
       "35"
      ]
     },
     "execution_count": 21,
     "metadata": {},
     "output_type": "execute_result"
    }
   ],
   "source": [
    "media_files = set()\n",
    "for item in df.entities:\n",
    "    i = ast.literal_eval(item)\n",
    "    media = i.get('media', [])\n",
    "    if(len(media) > 0):\n",
    "        media_files.add(media[0]['media_url'])\n",
    "len(media_files)"
   ]
  },
  {
   "cell_type": "code",
   "execution_count": 22,
   "metadata": {
    "execution": {
     "iopub.execute_input": "2020-08-06T02:31:51.239327Z",
     "iopub.status.busy": "2020-08-06T02:31:51.238954Z",
     "iopub.status.idle": "2020-08-06T02:31:56.178230Z",
     "shell.execute_reply": "2020-08-06T02:31:56.176917Z",
     "shell.execute_reply.started": "2020-08-06T02:31:51.239295Z"
    }
   },
   "outputs": [],
   "source": [
    "for media_file in media_files:\n",
    "    wget.download(media_file, out='nomask_images')"
   ]
  },
  {
   "cell_type": "code",
   "execution_count": null,
   "metadata": {},
   "outputs": [],
   "source": []
  }
 ],
 "metadata": {
  "kernelspec": {
   "display_name": "Python 3",
   "language": "python",
   "name": "python3"
  },
  "language_info": {
   "codemirror_mode": {
    "name": "ipython",
    "version": 3
   },
   "file_extension": ".py",
   "mimetype": "text/x-python",
   "name": "python",
   "nbconvert_exporter": "python",
   "pygments_lexer": "ipython3",
   "version": "3.7.7"
  }
 },
 "nbformat": 4,
 "nbformat_minor": 4
}
